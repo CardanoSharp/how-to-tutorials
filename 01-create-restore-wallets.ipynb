{
 "cells": [
  {
   "cell_type": "markdown",
   "metadata": {},
   "source": [
    "## Import CardanoSharp Library"
   ]
  },
  {
   "cell_type": "code",
   "execution_count": null,
   "metadata": {
    "dotnet_interactive": {
     "language": "csharp"
    }
   },
   "outputs": [
    {
     "data": {
      "text/html": [
       "<div><div></div><div></div><div><strong>Installed Packages</strong><ul><li><span>CardanoSharp.Wallet, 1.0.0</span></li></ul></div></div>"
      ]
     },
     "metadata": {},
     "output_type": "display_data"
    }
   ],
   "source": [
    "#r \"nuget:CardanoSharp.Wallet,1.0.0\""
   ]
  },
  {
   "cell_type": "markdown",
   "metadata": {},
   "source": [
    "## Generate Mnemonics"
   ]
  },
  {
   "cell_type": "code",
   "execution_count": null,
   "metadata": {
    "dotnet_interactive": {
     "language": "csharp"
    }
   },
   "outputs": [
    {
     "name": "stdout",
     "output_type": "stream",
     "text": [
      "strong clump robust unhappy glue antenna rely ensure faculty pretty chest off midnight subject trade cup vessel gym decade trouble trouble tone turn system\r\n",
      "d7258aed76a63e13ad5a5a51b5449e4ca8c7aff9a9adf30d00e2748e91c8bab6\r\n"
     ]
    }
   ],
   "source": [
    "using CardanoSharp.Wallet;\n",
    "using CardanoSharp.Wallet.Models.Keys;\n",
    "using CardanoSharp.Wallet.Extensions;\n",
    "\n",
    "Mnemonic mnemonic = new MnemonicService().Generate(24);\n",
    "Console.WriteLine(mnemonic.Words);\n",
    "Console.WriteLine(mnemonic.Entropy.ToStringHex());\n",
    "\n",
    "var words = mnemonic.Words;"
   ]
  },
  {
   "cell_type": "markdown",
   "metadata": {},
   "source": [
    "## Restore Mnemonic"
   ]
  },
  {
   "cell_type": "code",
   "execution_count": null,
   "metadata": {
    "dotnet_interactive": {
     "language": "csharp"
    }
   },
   "outputs": [
    {
     "name": "stdout",
     "output_type": "stream",
     "text": [
      "strong clump robust unhappy glue antenna rely ensure faculty pretty chest off midnight subject trade cup vessel gym decade trouble trouble tone turn system\r\n",
      "d7258aed76a63e13ad5a5a51b5449e4ca8c7aff9a9adf30d00e2748e91c8bab6\r\n"
     ]
    }
   ],
   "source": [
    "Mnemonic mnemonic = new MnemonicService().Restore(words);\n",
    "\n",
    "Console.WriteLine(mnemonic.Words);\n",
    "Console.WriteLine(mnemonic.Entropy.ToStringHex());"
   ]
  },
  {
   "cell_type": "markdown",
   "metadata": {},
   "source": [
    "## Create/Restore Wallet Keys from Mnemonic"
   ]
  },
  {
   "cell_type": "code",
   "execution_count": null,
   "metadata": {
    "dotnet_interactive": {
     "language": "csharp"
    }
   },
   "outputs": [
    {
     "name": "stdout",
     "output_type": "stream",
     "text": [
      "Root Private Key: d0e6a64e85aa3d2b17dfd50754ee6524793f3d863dfed671e60134e65306fa40bd57fbe495d2d9a100478b11bd6d3a428fef95abcf0f67229c61b69e16c9560f\r\n",
      "Root Chaincode: fa79c189f8b3757e2ad19d05bd0f70fc0e82ca94d6de9dc5f2ce014012e92cd3\r\n",
      "Payment Private Key: 600a3eb87281b826170f5a1b3b6c04b2b3e4110c7a550f1eb6b1e2b86206fa40236e98b2f4fd4296f2875c83d0631e68d4a3fc74d0d029ebdfb0007a9fe02209\r\n",
      "Payment Public Key: cb0c7189d485b63fb7b0453bbac1ffc4d90e831afd6111c474411ea43ee747fd\r\n"
     ]
    }
   ],
   "source": [
    "using CardanoSharp.Wallet.Extensions.Models;\n",
    "\n",
    "// The rootKey is a PrivateKey made of up of the \n",
    "//  - byte[] Key\n",
    "//  - byte[] Chaincode\n",
    "PrivateKey rootKey = mnemonic.GetRootKey();\n",
    "\n",
    "Console.WriteLine($\"Root Private Key: {rootKey.Key.ToStringHex()}\");\n",
    "Console.WriteLine($\"Root Chaincode: {rootKey.Chaincode.ToStringHex()}\");\n",
    "\n",
    "// This path will give us our Payment Key on index 0\n",
    "string paymentPath = $\"m/1852'/1815'/0'/0/0\";\n",
    "// The paymentPrv is Private Key of the specified path.\n",
    "PrivateKey paymentPrv = rootKey.Derive(paymentPath);\n",
    "// Get the Public Key from the Private Key\n",
    "PublicKey paymentPub = paymentPrv.GetPublicKey(false);\n",
    "\n",
    "Console.WriteLine($\"Payment Private Key: {paymentPrv.Key.ToStringHex()}\");\n",
    "Console.WriteLine($\"Payment Public Key: {paymentPub.Key.ToStringHex()}\");"
   ]
  },
  {
   "cell_type": "markdown",
   "metadata": {},
   "source": [
    "### Using Fluent Key Derivation"
   ]
  },
  {
   "cell_type": "code",
   "execution_count": null,
   "metadata": {
    "dotnet_interactive": {
     "language": "csharp"
    }
   },
   "outputs": [
    {
     "name": "stdout",
     "output_type": "stream",
     "text": [
      "Payment Private Key: 600a3eb87281b826170f5a1b3b6c04b2b3e4110c7a550f1eb6b1e2b86206fa40236e98b2f4fd4296f2875c83d0631e68d4a3fc74d0d029ebdfb0007a9fe02209\r\n",
      "Payment Public Key: cb0c7189d485b63fb7b0453bbac1ffc4d90e831afd6111c474411ea43ee747fd\r\n"
     ]
    }
   ],
   "source": [
    "using CardanoSharp.Wallet.Enums;\n",
    "\n",
    "// Fluent derivation API\n",
    "var derivation = mnemonic\n",
    "    .GetMasterNode()                // IMasterNodeDerivation\n",
    "    .Derive(PurposeType.Shelley)    // IPurposeNodeDerivation\n",
    "    .Derive(CoinType.Ada)           // ICoinNodeDerivation\n",
    "    .Derive(0)                      // IAccountNodeDerivation\n",
    "    .Derive(RoleType.ExternalChain) // IRoleNodeDerivation\n",
    "    .Derive(0);                     // IIndexNodeDerivation\n",
    "\n",
    "PrivateKey privateKey = derivation.PrivateKey;\n",
    "PublicKey publicKey = derivation.PublicKey;\n",
    "\n",
    "Console.WriteLine($\"Payment Private Key: {paymentPrv.Key.ToStringHex()}\");\n",
    "Console.WriteLine($\"Payment Public Key: {paymentPub.Key.ToStringHex()}\");"
   ]
  },
  {
   "cell_type": "markdown",
   "metadata": {},
   "source": [
    "> Note how the Payment Private and Public Keys are the same from the previous two examples."
   ]
  }
 ],
 "metadata": {
  "kernelspec": {
   "display_name": ".NET (C#)",
   "language": "C#",
   "name": ".net-csharp"
  },
  "language_info": {
   "name": "C#"
  }
 },
 "nbformat": 4,
 "nbformat_minor": 2
}
