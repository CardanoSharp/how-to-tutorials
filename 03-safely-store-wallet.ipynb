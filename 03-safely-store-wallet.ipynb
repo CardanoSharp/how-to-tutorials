{
 "cells": [
  {
   "cell_type": "markdown",
   "metadata": {},
   "source": [
    "## Safely Store a Wallet"
   ]
  },
  {
   "cell_type": "code",
   "execution_count": null,
   "metadata": {
    "dotnet_interactive": {
     "language": "csharp"
    }
   },
   "outputs": [
    {
     "data": {
      "text/html": [
       "<div><div></div><div></div><div><strong>Installed Packages</strong><ul><li><span>CardanoSharp.Wallet, 1.0.0</span></li></ul></div></div>"
      ]
     },
     "metadata": {},
     "output_type": "display_data"
    }
   ],
   "source": [
    "#r \"nuget:CardanoSharp.Wallet,1.0.0\""
   ]
  },
  {
   "cell_type": "markdown",
   "metadata": {},
   "source": [
    "## Create a Wallet and Derive to Account Node"
   ]
  },
  {
   "cell_type": "code",
   "execution_count": null,
   "metadata": {
    "dotnet_interactive": {
     "language": "csharp"
    }
   },
   "outputs": [
    {
     "name": "stdout",
     "output_type": "stream",
     "text": [
      "Account Private Key: 483fb9bffa8731cc44c4992e210398dfe2cb1c849743e9878f213132890c9a59de71b046aa40690920cb5617153adfe8b274375ae6f789f8cf2b6eb9a2d3579b\r\n",
      "Account Public Key: 30427c912a75bfb0f68494aa41b380c57a527596917cc6abcf0b1a6557860fb9\r\n"
     ]
    }
   ],
   "source": [
    "using CardanoSharp.Wallet;\n",
    "using CardanoSharp.Wallet.Enums;\n",
    "using CardanoSharp.Wallet.Extensions;\n",
    "using CardanoSharp.Wallet.Extensions.Models;\n",
    "using CardanoSharp.Wallet.Models.Addresses;\n",
    "using CardanoSharp.Wallet.Models.Keys;\n",
    "\n",
    "Mnemonic mnemonic = new MnemonicService().Generate(24);\n",
    "\n",
    "var accountNode = mnemonic\n",
    "    .GetMasterNode()\n",
    "    .Derive(PurposeType.Shelley)\n",
    "    .Derive(CoinType.Ada)\n",
    "    .Derive(0);\n",
    "accountNode.SetPublicKey();\n",
    "\n",
    "Console.WriteLine($\"Account Private Key: {accountNode.PrivateKey.Key.ToStringHex()}\");\n",
    "Console.WriteLine($\"Account Public Key: {accountNode.PublicKey.Key.ToStringHex()}\");"
   ]
  },
  {
   "cell_type": "markdown",
   "metadata": {},
   "source": [
    "## Encrypt Account Node"
   ]
  },
  {
   "cell_type": "code",
   "execution_count": null,
   "metadata": {
    "dotnet_interactive": {
     "language": "csharp"
    }
   },
   "outputs": [
    {
     "name": "stdout",
     "output_type": "stream",
     "text": [
      "Encrypted and Serialized Account Node\r\n",
      "{\"Item1\":{\"Key\":\"QAAAAC444PDVZ7cJwR2RYjk+WjIQNhzpwCv/903iJ9+xr1M3aNi/MlGqgx9LEPgN9bEi6OrUpDMlvwBkLw2qsbTNbmAFbpC+MW0svog9rgN1kvZmNQv7ABCaTJbK3utnm4LEcQ==\",\"Chaincode\":\"IAAAAEZXg0GDx9fyKtQk2bEvz3AR8zts5/obcqS3bhawLl9OKOSe1NxnbZdBDmdj9vRJY7LxPB5HL5Dmpr82D8TwXEA=\"},\"Item2\":{\"Key\":\"MEJ8kSp1v7D2hJSqQbOAxXpSdZaRfMarzwsaZVeGD7k=\",\"Chaincode\":\"1vQRomMLrF7ZZJ2xElXQs9TyJbBiT8ybHY4cQbmtT3s=\"}}\r\n"
     ]
    }
   ],
   "source": [
    "using System.Text.Json;\n",
    "\n",
    "// use the Spending Password to 2-Way encrypt the Private Key\n",
    "// and then store both the encrypted Private Key and the plain Public Key.\n",
    "var blob = new Tuple<PrivateKey, PublicKey>(accountNode.PrivateKey.Encrypt(\"spending_password\"), accountNode.PublicKey);\n",
    "var store = JsonSerializer.Serialize(blob);\n",
    "\n",
    "Console.WriteLine(\"Encrypted and Serialized Account Node\");\n",
    "Console.WriteLine(store);"
   ]
  },
  {
   "cell_type": "markdown",
   "metadata": {},
   "source": [
    "## Decrypt Account Node"
   ]
  },
  {
   "cell_type": "code",
   "execution_count": null,
   "metadata": {
    "dotnet_interactive": {
     "language": "csharp"
    }
   },
   "outputs": [
    {
     "name": "stdout",
     "output_type": "stream",
     "text": [
      "Account Private Key: 483fb9bffa8731cc44c4992e210398dfe2cb1c849743e9878f213132890c9a59de71b046aa40690920cb5617153adfe8b274375ae6f789f8cf2b6eb9a2d3579b\r\n",
      "Account Public Key: 30427c912a75bfb0f68494aa41b380c57a527596917cc6abcf0b1a6557860fb9\r\n"
     ]
    }
   ],
   "source": [
    "// The user now wants to send a transaction.\n",
    "// They enter in the ADDR, Amount to Send, and their Spending Password.\n",
    "// I can now decrypt the Account Private Key...\n",
    "var decryptedAccountNode = JsonSerializer.Deserialize<Tuple<PrivateKey, PublicKey>>(store);\n",
    "// This is the decrypted Account\n",
    "PrivateKey accountPrivate = decryptedAccountNode.Item1.Decrypt(\"spending_password\");\n",
    "PublicKey accountPublic = decryptedAccountNode.Item2;\n",
    "\n",
    "Console.WriteLine($\"Account Private Key: {accountPrivate.Key.ToStringHex()}\");\n",
    "Console.WriteLine($\"Account Public Key: {accountPublic.Key.ToStringHex()}\");"
   ]
  }
 ],
 "metadata": {
  "kernelspec": {
   "display_name": ".NET (C#)",
   "language": "C#",
   "name": ".net-csharp"
  },
  "language_info": {
   "name": "C#"
  }
 },
 "nbformat": 4,
 "nbformat_minor": 2
}
