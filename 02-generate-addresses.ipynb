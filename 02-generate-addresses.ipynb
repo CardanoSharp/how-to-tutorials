{
 "cells": [
  {
   "cell_type": "markdown",
   "metadata": {},
   "source": [
    "## Import CardanoSharp Library"
   ]
  },
  {
   "cell_type": "code",
   "execution_count": null,
   "metadata": {
    "dotnet_interactive": {
     "language": "csharp"
    }
   },
   "outputs": [
    {
     "data": {
      "text/html": [
       "<div><div></div><div></div><div><strong>Installed Packages</strong><ul><li><span>CardanoSharp.Wallet, 1.0.0</span></li></ul></div></div>"
      ]
     },
     "metadata": {},
     "output_type": "display_data"
    }
   ],
   "source": [
    "#r \"nuget:CardanoSharp.Wallet,1.0.0\""
   ]
  },
  {
   "cell_type": "markdown",
   "metadata": {},
   "source": [
    "## Generate Addresses"
   ]
  },
  {
   "cell_type": "code",
   "execution_count": null,
   "metadata": {
    "dotnet_interactive": {
     "language": "csharp"
    }
   },
   "outputs": [
    {
     "name": "stdout",
     "output_type": "stream",
     "text": [
      "Base Delegation Address: addr_test1qplnacdedhrxvsxhk3tn79rw4qn9p3sl8raz427lmuaj6zmuwpse7kayywspl370afgj3wyt9delk20hjrzmfsr39ulsqlcc07\r\n",
      "Enterprise Address: addr_test1vplnacdedhrxvsxhk3tn79rw4qn9p3sl8raz427lmuaj6zcuvsy40\r\n",
      "Reward Address: stake_test1uplnacdedhrxvsxhk3tn79rw4qn9p3sl8raz427lmuaj6zcuywuz9\r\n"
     ]
    }
   ],
   "source": [
    "using CardanoSharp.Wallet;\n",
    "using CardanoSharp.Wallet.Enums;\n",
    "using CardanoSharp.Wallet.Extensions;\n",
    "using CardanoSharp.Wallet.Extensions.Models;\n",
    "using CardanoSharp.Wallet.Models.Addresses;\n",
    "using CardanoSharp.Wallet.Models.Keys;\n",
    "\n",
    "Mnemonic mnemonic = new MnemonicService().Generate(24);\n",
    "\n",
    "var accountNode = mnemonic\n",
    "    .GetMasterNode()\n",
    "    .Derive(PurposeType.Shelley)\n",
    "    .Derive(CoinType.Ada)\n",
    "    .Derive(0);\n",
    "\n",
    "var paymentNode = accountNode\n",
    "    .Derive(RoleType.ExternalChain)\n",
    "    .Derive(0);\n",
    "\n",
    "var stakingNode = accountNode\n",
    "    .Derive(RoleType.Staking)\n",
    "    .Derive(0);\n",
    "\n",
    "Address baseAddr = new AddressService().GetAddress(\n",
    "    paymentNode.PublicKey, \n",
    "    stakingNode.PublicKey, \n",
    "    NetworkType.Testnet, \n",
    "    AddressType.Base);\n",
    "\n",
    "Address enterpriseAddr = new AddressService().GetAddress(\n",
    "    paymentNode.PublicKey, \n",
    "    stakingNode.PublicKey, \n",
    "    NetworkType.Testnet, \n",
    "    AddressType.Enterprise);\n",
    "\n",
    "Address rewardAddr = new AddressService().GetAddress(\n",
    "    paymentNode.PublicKey, \n",
    "    stakingNode.PublicKey, \n",
    "    NetworkType.Testnet, \n",
    "    AddressType.Reward);\n",
    "\n",
    "Console.WriteLine($\"Base Delegation Address: {baseAddr.ToString()}\");\n",
    "Console.WriteLine($\"Enterprise Address: {enterpriseAddr.ToString()}\");\n",
    "Console.WriteLine($\"Reward Address: {rewardAddr.ToString()}\");"
   ]
  },
  {
   "cell_type": "markdown",
   "metadata": {},
   "source": [
    "## Starting with an Address"
   ]
  },
  {
   "cell_type": "code",
   "execution_count": null,
   "metadata": {
    "dotnet_interactive": {
     "language": "csharp"
    }
   },
   "outputs": [
    {
     "name": "stdout",
     "output_type": "stream",
     "text": [
      "Address String: addr_test1qz2fxv2umyhttkxyxp8x0dlpdt3k6cwng5pxj3jhsydzer3jcu5d8ps7zex2k2xt3uqxgjqnnj83ws8lhrn648jjxtwq2ytjqp\r\n",
      "Address Bytes: 009493315cd92eb5d8c4304e67b7e16ae36d61d34502694657811a2c8e32c728d3861e164cab28cb8f006448139c8f1740ffb8e7aa9e5232dc\r\n"
     ]
    }
   ],
   "source": [
    "Address baseAddr = new Address(\"addr_test1qz2fxv2umyhttkxyxp8x0dlpdt3k6cwng5pxj3jhsydzer3jcu5d8ps7zex2k2xt3uqxgjqnnj83ws8lhrn648jjxtwq2ytjqp\");\n",
    "\n",
    "Console.WriteLine($\"Address String: {baseAddr.ToString()}\");\n",
    "Console.WriteLine($\"Address Bytes: {baseAddr.GetBytes().ToStringHex()}\");"
   ]
  }
 ],
 "metadata": {
  "kernelspec": {
   "display_name": ".NET (C#)",
   "language": "C#",
   "name": ".net-csharp"
  },
  "language_info": {
   "name": "C#"
  }
 },
 "nbformat": 4,
 "nbformat_minor": 2
}
